{
 "cells": [
  {
   "cell_type": "code",
   "execution_count": 1,
   "id": "4088687f",
   "metadata": {},
   "outputs": [],
   "source": [
    "import json\n",
    "import random\n",
    "from MedicalKnowledgeBase import MedicalKnowledgeBase\n",
    "\n",
    "kb = MedicalKnowledgeBase('output/mimic_4_kb_w_freq.json')\n",
    "\n",
    "with open(\"revised_input/symptom_questions.json\") as f:\n",
    "    questions = json.load(f)\n",
    "\n",
    "with open(\"revised_input/emote_rules.json\") as f:\n",
    "    emote = json.load(f)"
   ]
  },
  {
   "cell_type": "code",
   "execution_count": 2,
   "id": "c2170f72",
   "metadata": {},
   "outputs": [],
   "source": [
    "def chatbot_loop():\n",
    "    print(\"Chatbot: Hello, I'm going to ask you some yes or no questions about your symptoms.\")\n",
    "    current_findings = []\n",
    "    neg_findings = []\n",
    "    next_finding = kb.get_random_finding()\n",
    "    prev_ans = None\n",
    "    while len(current_findings) + len(neg_findings) < 10:\n",
    "\n",
    "        question = generate_question(next_finding)\n",
    "        if not question:\n",
    "            next_finding = kb.get_random_finding()\n",
    "            continue\n",
    "\n",
    "        if prev_ans:\n",
    "            r = random.random()\n",
    "            if prev_ans == \"y\" and r > .6:\n",
    "                question = random.choice(emote[\"affirmative\"]) + \" \" + question\n",
    "            elif .6 >= r > .45 :\n",
    "                question = random.choice(emote[\"empathetic\"]) + \" \" + question\n",
    "            elif .45 >= r > .4 :\n",
    "                question = random.choice(emote[\"apologetic\"]) + \" \" + question\n",
    "\n",
    "        print(f\"Chatbot: {question}\")\n",
    "        user_input = input(\"You: \")\n",
    "        if any(word in user_input.lower() for word in [\"yes\", \"yeah\", \"y\", \"i have\", \"sure\"]):\n",
    "            prev_ans = \"y\"\n",
    "            current_findings.append(next_finding)\n",
    "        else:\n",
    "            prev_ans = \"n\"\n",
    "            neg_findings.append(next_finding)\n",
    "        \n",
    "        # Suggest next finding\n",
    "        next_finding = kb.suggest_next_finding(current_findings, neg_findings)\n",
    "\n",
    "    print(\"Chatbot: Thank you for your time.\")\n",
    "    \n",
    "\n",
    "def generate_question(finding):\n",
    "    try: \n",
    "        return random.choice(questions[finding])\n",
    "    except: \n",
    "        return None"
   ]
  },
  {
   "cell_type": "code",
   "execution_count": null,
   "id": "e5ab7a12",
   "metadata": {},
   "outputs": [
    {
     "name": "stdout",
     "output_type": "stream",
     "text": [
      "Chatbot: Hello, I'm going to ask you some yes or no questions about your symptoms.\n",
      "Chatbot: When did your vaginal bleeding start?\n"
     ]
    }
   ],
   "source": [
    "chatbot_loop()\n"
   ]
  }
 ],
 "metadata": {
  "kernelspec": {
   "display_name": ".venv",
   "language": "python",
   "name": "python3"
  },
  "language_info": {
   "codemirror_mode": {
    "name": "ipython",
    "version": 3
   },
   "file_extension": ".py",
   "mimetype": "text/x-python",
   "name": "python",
   "nbconvert_exporter": "python",
   "pygments_lexer": "ipython3",
   "version": "3.9.7"
  }
 },
 "nbformat": 4,
 "nbformat_minor": 5
}
