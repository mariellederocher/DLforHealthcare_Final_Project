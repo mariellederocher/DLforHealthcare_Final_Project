{
 "cells": [
  {
   "cell_type": "code",
   "execution_count": 2,
   "id": "8cfd5fc2",
   "metadata": {},
   "outputs": [],
   "source": [
    "import pandas as pd\n",
    "import re\n",
    "\n",
    "mimic_df = pd.read_csv(\"mimiciv_subset_cleaned.csv\")\n",
    "\n",
    "with open(\"mayoclinic_symptom_list.txt\") as f:\n",
    "    symptom_list = [line.strip() for line in f]\n",
    "\n",
    "symptom_pattern = re.compile(r'\\b(' + '|'.join(re.escape(sym) for sym in symptom_list) + r')\\b', re.IGNORECASE)\n",
    "\n",
    "def extract_findings(text):\n",
    "    return list(set(symptom_pattern.findall(text)))\n",
    "\n",
    "mimic_df[\"findings\"] = mimic_df[\"text\"].apply(extract_findings)"
   ]
  },
  {
   "cell_type": "code",
   "execution_count": 3,
   "id": "f949d404",
   "metadata": {},
   "outputs": [
    {
     "name": "stdout",
     "output_type": "stream",
     "text": [
      "✅ Subset exported to mimiciv_subset_cleaned_w_findings.csv with 1000 rows.\n"
     ]
    }
   ],
   "source": [
    "output_filename = \"mimiciv_subset_cleaned_w_findings.csv\"\n",
    "mimic_df.to_csv(output_filename, index=False)\n",
    "\n",
    "print(f\"✅ Subset exported to {output_filename} with {len(mimic_df)} rows.\")"
   ]
  },
  {
   "cell_type": "code",
   "execution_count": 6,
   "id": "5fa54d7a",
   "metadata": {},
   "outputs": [],
   "source": [
    "from collections import defaultdict\n",
    "\n",
    "kb = defaultdict(lambda: defaultdict(int))\n",
    "\n",
    "for _, row in mimic_df.iterrows():\n",
    "    disease = row[\"long_title\"]\n",
    "    findings = row[\"findings\"]\n",
    "    \n",
    "    for finding in findings:\n",
    "        kb[disease][finding] += 1\n",
    "\n",
    "normalized_kb = {}\n",
    "for diagnosis, findings in kb.items():\n",
    "    total = sum(findings.values())\n",
    "    normalized_kb[diagnosis] = {\n",
    "        symptom: count / total\n",
    "        for symptom, count in findings.items()\n",
    "    }"
   ]
  },
  {
   "cell_type": "code",
   "execution_count": null,
   "id": "b8171c9f",
   "metadata": {},
   "outputs": [
    {
     "name": "stdout",
     "output_type": "stream",
     "text": [
      "✅ Knowledge base created with 541 diagnoses.\n",
      "→ Saved to:\n",
      "- mimic_4_kb_w_freq\n"
     ]
    }
   ],
   "source": [
    "kb_output_csv = \"mimic_4_kb_w_freq.csv\"\n",
    "\n",
    "flattened = []\n",
    "for disease, findings in normalized_kb.items():\n",
    "    for symptom, freq in findings.items():\n",
    "        flattened.append({\"diagnosis\": disease, \"symptom\": symptom, \"frequency\": freq})\n",
    "\n",
    "df_kb = pd.DataFrame(flattened)\n",
    "df_kb.to_csv(kb_output_csv, index=False)\n",
    "\n",
    "print(f\"✅ Knowledge base created with {len(normalized_kb)} diagnoses.\")\n",
    "print(f\"→ Saved to:\\n- {kb_output_csv}\")"
   ]
  }
 ],
 "metadata": {
  "kernelspec": {
   "display_name": "Python 3",
   "language": "python",
   "name": "python3"
  },
  "language_info": {
   "codemirror_mode": {
    "name": "ipython",
    "version": 3
   },
   "file_extension": ".py",
   "mimetype": "text/x-python",
   "name": "python",
   "nbconvert_exporter": "python",
   "pygments_lexer": "ipython3",
   "version": "3.9.7"
  }
 },
 "nbformat": 4,
 "nbformat_minor": 5
}
