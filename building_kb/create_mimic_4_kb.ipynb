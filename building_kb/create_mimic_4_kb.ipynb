{
 "cells": [
  {
   "cell_type": "code",
   "execution_count": 4,
   "id": "8cfd5fc2",
   "metadata": {},
   "outputs": [],
   "source": [
    "import pandas as pd\n",
    "import re\n",
    "\n",
    "mimic_df = pd.read_csv(\"outputs/mimiciv_subset_cleaned.csv\")\n",
    "\n",
    "with open(\"outputs/mayoclinic_symptom_list.txt\") as f:\n",
    "    symptom_list = [line.strip() for line in f]\n",
    "\n",
    "symptom_pattern = re.compile(r'\\b(' + '|'.join(re.escape(sym) for sym in symptom_list) + r')\\b', re.IGNORECASE)\n",
    "\n",
    "def extract_findings(text):\n",
    "    return list(set(symptom_pattern.findall(text)))\n",
    "\n",
    "mimic_df[\"findings\"] = mimic_df[\"text\"].apply(extract_findings)"
   ]
  },
  {
   "cell_type": "code",
   "execution_count": 5,
   "id": "f949d404",
   "metadata": {},
   "outputs": [
    {
     "name": "stdout",
     "output_type": "stream",
     "text": [
      "✅ Subset exported to mimiciv_subset_cleaned_w_findings.csv with 1000 rows.\n"
     ]
    }
   ],
   "source": [
    "output_filename = \"mimiciv_subset_cleaned_w_findings.csv\"\n",
    "mimic_df.to_csv(output_filename, index=False)\n",
    "\n",
    "print(f\"✅ Subset exported to {output_filename} with {len(mimic_df)} rows.\")"
   ]
  },
  {
   "cell_type": "code",
   "execution_count": 6,
   "id": "5fa54d7a",
   "metadata": {},
   "outputs": [],
   "source": [
    "from collections import defaultdict\n",
    "\n",
    "kb = defaultdict(lambda: defaultdict(int))\n",
    "\n",
    "for _, row in mimic_df.iterrows():\n",
    "    disease = row[\"long_title\"]\n",
    "    findings = row[\"findings\"]\n",
    "    \n",
    "    for finding in findings:\n",
    "        kb[disease][finding] += 1\n",
    "\n",
    "normalized_kb = {}\n",
    "for diagnosis, findings in kb.items():\n",
    "    total = sum(findings.values())\n",
    "    normalized_kb[diagnosis] = {\n",
    "        symptom: count / total\n",
    "        for symptom, count in findings.items()\n",
    "    }"
   ]
  },
  {
   "cell_type": "code",
   "execution_count": 8,
   "id": "b8171c9f",
   "metadata": {},
   "outputs": [
    {
     "name": "stdout",
     "output_type": "stream",
     "text": [
      "✅ Knowledge base created with 541 diagnoses.\n",
      "→ Saved to:\n",
      "- outputs/mimic_4_kb_w_freq.json\n",
      "- outputs/mimic_4_kb_w_freq.csv\n"
     ]
    }
   ],
   "source": [
    "import json\n",
    "\n",
    "kb_output_csv = \"outputs/mimic_4_kb_w_freq.csv\"\n",
    "kb_output_json = \"outputs/mimic_4_kb_w_freq.json\"\n",
    "\n",
    "# === SAVE AS JSON ===\n",
    "with open(kb_output_json, \"w\") as f:\n",
    "    json.dump(normalized_kb, f, indent=2)\n",
    "\n",
    "# === SAVE AS CSV (flattened) ===\n",
    "flattened = []\n",
    "for disease, findings in normalized_kb.items():\n",
    "    for symptom, freq in findings.items():\n",
    "        flattened.append({\"diagnosis\": disease, \"symptom\": symptom, \"frequency\": freq})\n",
    "\n",
    "df_kb = pd.DataFrame(flattened)\n",
    "df_kb.to_csv(kb_output_csv, index=False)\n",
    "\n",
    "print(f\"✅ Knowledge base created with {len(normalized_kb)} diagnoses.\")\n",
    "print(f\"→ Saved to:\\n- {kb_output_json}\\n- {kb_output_csv}\")"
   ]
  },
  {
   "cell_type": "code",
   "execution_count": null,
   "id": "7d3d02e4",
   "metadata": {},
   "outputs": [
    {
     "ename": "NameError",
     "evalue": "name '__file__' is not defined",
     "output_type": "error",
     "traceback": [
      "\u001b[1;31m---------------------------------------------------------------------------\u001b[0m",
      "\u001b[1;31mNameError\u001b[0m                                 Traceback (most recent call last)",
      "Cell \u001b[1;32mIn[3], line 4\u001b[0m\n\u001b[0;32m      1\u001b[0m \u001b[38;5;28;01mfrom\u001b[39;00m\u001b[38;5;250m \u001b[39m\u001b[38;5;21;01mMedicalKnowledgeBase\u001b[39;00m\u001b[38;5;250m \u001b[39m\u001b[38;5;28;01mimport\u001b[39;00m MedicalKnowledgeBase\n\u001b[0;32m      2\u001b[0m \u001b[38;5;28;01mimport\u001b[39;00m\u001b[38;5;250m \u001b[39m\u001b[38;5;21;01mos\u001b[39;00m\n\u001b[1;32m----> 4\u001b[0m script_dir \u001b[38;5;241m=\u001b[39m os\u001b[38;5;241m.\u001b[39mpath\u001b[38;5;241m.\u001b[39mdirname(os\u001b[38;5;241m.\u001b[39mpath\u001b[38;5;241m.\u001b[39mabspath(\u001b[38;5;18;43m__file__\u001b[39;49m))\n\u001b[0;32m      5\u001b[0m txt_path \u001b[38;5;241m=\u001b[39m os\u001b[38;5;241m.\u001b[39mpath\u001b[38;5;241m.\u001b[39mjoin(script_dir, \u001b[38;5;124m\"\u001b[39m\u001b[38;5;124moutputs/mimic_4_kb_w_freq.json\u001b[39m\u001b[38;5;124m\"\u001b[39m)\n\u001b[0;32m      6\u001b[0m kb \u001b[38;5;241m=\u001b[39m MedicalKnowledgeBase(txt_path)\n",
      "\u001b[1;31mNameError\u001b[0m: name '__file__' is not defined"
     ]
    }
   ],
   "source": [
    "from MedicalKnowledgeBase import MedicalKnowledgeBase\n",
    "import os\n",
    "\n",
    "kb = MedicalKnowledgeBase(\"outputs/mimic_4_kb_w_freq.json\")\n",
    "\n",
    "kb.get_kb()\n",
    "\n",
    "current_findings = [\"cough\"]\n",
    "next_question = kb.suggest_next_finding(current_findings)\n",
    "print(\"Suggested next finding to ask:\", next_question)"
   ]
  }
 ],
 "metadata": {
  "kernelspec": {
   "display_name": ".venv",
   "language": "python",
   "name": "python3"
  },
  "language_info": {
   "codemirror_mode": {
    "name": "ipython",
    "version": 3
   },
   "file_extension": ".py",
   "mimetype": "text/x-python",
   "name": "python",
   "nbconvert_exporter": "python",
   "pygments_lexer": "ipython3",
   "version": "3.9.7"
  }
 },
 "nbformat": 4,
 "nbformat_minor": 5
}
