{
 "cells": [
  {
   "cell_type": "markdown",
   "id": "a2031d4a",
   "metadata": {},
   "source": [
    "# Labeling Questions and Answers using deberta-v3-large-zeroshot-v2.0"
   ]
  },
  {
   "cell_type": "markdown",
   "id": "66bea50a",
   "metadata": {},
   "source": [
    "Model: https://huggingface.co/MoritzLaurer/deberta-v3-large-zeroshot-v2.0"
   ]
  },
  {
   "cell_type": "markdown",
   "id": "d336a0d3",
   "metadata": {},
   "source": [
    "This notebook is written to be run using Kaggle with a GPU TP4 accelerator. Before running, upload a dataset called \"mts_dialogue_qa_dataset\" containing the files \"mts_dialog_questions.csv\" and \"mts_dialog_answers.csv\", created using the \"make_mts_dialog_dataset.ipynb\" notebook. And this dataset to the Kaggle notebooks input. "
   ]
  },
  {
   "cell_type": "code",
   "execution_count": null,
   "id": "c43d91d5",
   "metadata": {},
   "outputs": [],
   "source": [
    "from transformers import pipeline\n",
    "\n",
    "model_name = \"MoritzLaurer/deberta-v3-large-zeroshot-v2.0\"\n",
    "zs_text_classifier = pipeline(model=model_name)"
   ]
  },
  {
   "cell_type": "markdown",
   "id": "6bde065f",
   "metadata": {},
   "source": [
    "## Label doctor questions with emote code"
   ]
  },
  {
   "cell_type": "code",
   "execution_count": null,
   "id": "509877c2",
   "metadata": {},
   "outputs": [],
   "source": [
    "import pandas as pd\n",
    "\n",
    "df = pd.read_csv(\"/kaggle/input/mts_dialogue_qa_dataset/mts_dialog_questions.csv\")\n",
    "df"
   ]
  },
  {
   "cell_type": "code",
   "execution_count": null,
   "id": "9e7188e7",
   "metadata": {},
   "outputs": [],
   "source": [
    "candidate_labels = [\n",
    "    \"Affirmative\",\n",
    "    \"Empathetic\",\n",
    "    \"Apologetic\",\n",
    "    \"Neutral\",\n",
    "]\n",
    "\n",
    "hypothesis_template = \"The emotion of this text is {}\"\n",
    "\n",
    "def label_emotes(start_idx, stop_idx):\n",
    "    sub_df = df.loc[start_idx:stop_idx]\n",
    "    for idx, row in sub_df.iterrows():\n",
    "        try:\n",
    "            classified = zs_text_classifier(\n",
    "                            row[\"doctor_q\"], \n",
    "                            candidate_labels,\n",
    "                            hypothesis_template=hypothesis_template,\n",
    "                            multi_label=True\n",
    "            )\n",
    "        except: \n",
    "            print(\"ignore\")\n",
    "\n",
    "        label = \"Neutral\"\n",
    "        if classified[\"labels\"][0] == \"Neutral\" and classified[\"scores\"][1] > .85:\n",
    "            label = classified[\"labels\"][1]\n",
    "        elif classified[\"scores\"][0] > .5:\n",
    "            label = classified[\"labels\"][0]\n",
    "    \n",
    "        df.loc[idx, \"emote\"] = label\n",
    "\n",
    "        # print(row[\"doctor_q\"], label)\n",
    "    "
   ]
  },
  {
   "cell_type": "code",
   "execution_count": null,
   "id": "eee5e5cb",
   "metadata": {},
   "outputs": [],
   "source": [
    "start_idx = 0\n",
    "stop_idx = 5808\n",
    "\n",
    "label_emotes(start_idx, stop_idx)\n",
    "\n",
    "df.to_csv(\"mts_dialog_questions_w_emotes.csv\", index=False)\n",
    "df"
   ]
  },
  {
   "cell_type": "markdown",
   "id": "371b3d31",
   "metadata": {},
   "source": [
    "## Label patient responses as affirmative"
   ]
  },
  {
   "cell_type": "code",
   "execution_count": null,
   "id": "d18a11da",
   "metadata": {},
   "outputs": [],
   "source": [
    "import pandas as pd\n",
    "\n",
    "df = pd.read_csv(\"/kaggle/input/mts-dialog-qa-dataset/mts_dialog_answers.csv\")\n",
    "df"
   ]
  },
  {
   "cell_type": "code",
   "execution_count": null,
   "id": "805da05a",
   "metadata": {},
   "outputs": [],
   "source": [
    "candidate_labels = [\n",
    "    \"True\",\n",
    "    \"False\",\n",
    "    \"Unidentifiable\",\n",
    "]\n",
    "\n",
    "hypothesis_template = \"As an answer to a question, it is {} that this response is affirmative\"\n",
    "\n",
    "def label_affirmative(start_idx, stop_idx):\n",
    "    sub_df = df.loc[start_idx:stop_idx]\n",
    "    for idx, row in sub_df.iterrows():\n",
    "        try:\n",
    "            classified = zs_text_classifier(\n",
    "                            row[\"patient_a\"], \n",
    "                            candidate_labels,\n",
    "                            hypothesis_template=hypothesis_template,\n",
    "                            multi_label=True\n",
    "            )\n",
    "        except: \n",
    "            print(\"ignore\")\n",
    "\n",
    "        label = \"Unknown\"\n",
    "        if classified[\"scores\"][0] > .5:\n",
    "            label = classified[\"labels\"][0]\n",
    "            \n",
    "    \n",
    "        df.loc[idx, \"affirmative\"] = label\n",
    "\n",
    "        # print(row[\"patient_a\"], label)\n",
    "    "
   ]
  },
  {
   "cell_type": "code",
   "execution_count": null,
   "id": "32eeef19",
   "metadata": {},
   "outputs": [],
   "source": [
    "start_idx = 0\n",
    "stop_idx = 5478\n",
    "\n",
    "label_affirmative(start_idx, stop_idx)\n",
    "\n",
    "df.to_csv(\"mts_dialog_answers_with_yn.csv\", index=False)\n",
    "df"
   ]
  }
 ],
 "metadata": {
  "kernelspec": {
   "display_name": "Python 3",
   "language": "python",
   "name": "python3"
  },
  "language_info": {
   "name": "python",
   "version": "3.9.7"
  }
 },
 "nbformat": 4,
 "nbformat_minor": 5
}
